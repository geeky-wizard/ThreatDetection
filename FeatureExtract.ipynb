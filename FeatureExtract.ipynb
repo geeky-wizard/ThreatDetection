{
 "cells": [
  {
   "cell_type": "code",
   "execution_count": 1,
   "metadata": {},
   "outputs": [
    {
     "data": {
      "text/plain": [
       "'3.3.0'"
      ]
     },
     "execution_count": 1,
     "metadata": {},
     "output_type": "execute_result"
    }
   ],
   "source": [
    "import cv2\n",
    "import numpy as np\n",
    "import os\n",
    "import pickle\n",
    "\n",
    "from scipy.cluster.vq import kmeans,vq\n",
    "from sklearn.preprocessing import StandardScaler\n",
    "from sklearn.svm import LinearSVC\n",
    "\n",
    "cv2.__version__"
   ]
  },
  {
   "cell_type": "code",
   "execution_count": 2,
   "metadata": {},
   "outputs": [],
   "source": [
    "train_path = 'train_GDXray'\n",
    "images = [os.path.join(train_path,f) for f in os.listdir(train_path)]"
   ]
  },
  {
   "cell_type": "code",
   "execution_count": 3,
   "metadata": {},
   "outputs": [],
   "source": [
    "brisk = cv2.BRISK_create(30)\n",
    "surf = cv2.xfeatures2d.SURF_create()\n",
    "orb = cv2.ORB_create(nfeatures=10,scoreType=cv2.ORB_FAST_SCORE)\n",
    "sift = cv2.xfeatures2d.SIFT_create()"
   ]
  },
  {
   "cell_type": "code",
   "execution_count": 6,
   "metadata": {},
   "outputs": [
    {
     "name": "stdout",
     "output_type": "stream",
     "text": [
      "5\n"
     ]
    }
   ],
   "source": [
    "n_features = [10,20,30,40,50]\n",
    "descriptorLists = []\n",
    "\n",
    "dims = (512,512)\n",
    "\n",
    "for n in n_features:\n",
    "#     sift = cv2.xfeatures2d.SIFT_create(n)\n",
    "    orb = cv2.ORB_create(nfeatures=n,scoreType=cv2.ORB_FAST_SCORE)\n",
    "    des_list = []\n",
    "    for image in images:\n",
    "        im = cv2.imread(image)\n",
    "        resized_image = cv2.resize(im, dims)\n",
    "        kpts,des = orb.detectAndCompute(im,None)\n",
    "        if len(kpts)!=n:\n",
    "            continue;\n",
    "        \n",
    "        des_list.append(des)\n",
    "        \n",
    "    descriptorLists.append(des_list)\n",
    "    \n",
    "print(len(descriptorLists))"
   ]
  },
  {
   "cell_type": "code",
   "execution_count": 7,
   "metadata": {},
   "outputs": [],
   "source": [
    "with open('featuresORB.pkl', 'wb') as f:\n",
    "    pickle.dump(descriptorLists,f)"
   ]
  },
  {
   "cell_type": "code",
   "execution_count": null,
   "metadata": {},
   "outputs": [],
   "source": [
    "with open('featuresORB.pkl', 'rb') as f:\n",
    "    desLists = pickle.load(f)"
   ]
  },
  {
   "cell_type": "markdown",
   "metadata": {},
   "source": [
    "### For ORB\n",
    "bf = cv2.BFMatcher(cv2.NORM_HAMMING, crossCheck=True)<br>\n",
    "matches = bf.match(des1,des2)\n",
    "\n",
    "### For SIFT\n",
    "bf = cv.BFMatcher()<br>\n",
    "matches = bf.knnMatch(des1,des2,k=2)\n",
    "\n",
    "\n",
    "The result of matches = bf.match(des1,des2) line is a list of DMatch objects. This DMatch object has following attributes:\n",
    "***\n",
    "**DMatch.distance** - Distance between descriptors. The lower, the better it is.<br>\n",
    "DMatch.trainIdx - Index of the descriptor in train descriptors<br>\n",
    "DMatch.queryIdx - Index of the descriptor in query descriptors<br>\n",
    "DMatch.imgIdx - Index of the train image.**<br>\n",
    "***"
   ]
  },
  {
   "cell_type": "code",
   "execution_count": null,
   "metadata": {
    "scrolled": true
   },
   "outputs": [],
   "source": [
    "# testing code\n",
    "\n",
    "# Matcher\n",
    "bf = cv2.BFMatcher(cv2.NORM_HAMMING, crossCheck=True)\n",
    "\n",
    "# window_size = [(32,32),(64,64),(128,128)]\n",
    "window_size = [(128,128)]\n",
    "\n",
    "test_path = 'test_GDXray'\n",
    "images = [os.path.join(test_path,f) for f in os.listdir(test_path)]\n",
    "\n",
    "dims = (512,512)\n",
    "\n",
    "for w in window_size:\n",
    "    print(\"Window : \",w)\n",
    "    for image in images:\n",
    "        print(\"Reading img : \",image)\n",
    "        img = cv2.imread(image)\n",
    "        gray = cv2.cvtColor(img, cv2.COLOR_BGR2GRAY)\n",
    "        resized_image = cv2.resize(gray, (512, 512))\n",
    "        \n",
    "#         cv2.imshow(\"Image\", gray)\n",
    "#         cv2.waitKey(0)   \n",
    "#         cv2.destroyAllWindows()\n",
    "        \n",
    "        height, width= resized_image.shape\n",
    "#         print(\"Dimensions : \",width,height)\n",
    "        window_number = 1\n",
    "    \n",
    "        y=0\n",
    "        while y<height:\n",
    "            if(y+w[1]>dims[1]):\n",
    "                break  \n",
    "            x=0\n",
    "            while x<width:\n",
    "                if (x+w[0])>dims[0]:\n",
    "                    break\n",
    "                print(window_number,\" : \",x,\",\",y)\n",
    "                window_number+=1\n",
    "                imgWindow = resized_image[y:y+w[1], x:x+w[0]]\n",
    "                \n",
    "                kp, des = orb.detectAndCompute(imgWindow, None)\n",
    "                matches = bf.match(des1,des2)\n",
    "                \n",
    "                cv2.imshow(\"Window Image\", imgWindow)\n",
    "                cv2.waitKey(0)   \n",
    "                cv2.destroyAllWindows()\n",
    "                \n",
    "                x = x + w[0]\n",
    "\n",
    "            y = y+w[1]"
   ]
  },
  {
   "cell_type": "markdown",
   "metadata": {},
   "source": [
    "### Docs\n",
    "\n",
    "https://blog.francium.tech/feature-detection-and-matching-with-opencv-5fd2394a590 - for matching desciptors\n",
    "\n",
    "https://docs.opencv.org/master/dc/dc3/tutorial_py_matcher.html - - for matching desciptors\n"
   ]
  }
 ],
 "metadata": {
  "kernelspec": {
   "display_name": "Python 3",
   "language": "python",
   "name": "python3"
  },
  "language_info": {
   "codemirror_mode": {
    "name": "ipython",
    "version": 3
   },
   "file_extension": ".py",
   "mimetype": "text/x-python",
   "name": "python",
   "nbconvert_exporter": "python",
   "pygments_lexer": "ipython3",
   "version": "3.6.10"
  }
 },
 "nbformat": 4,
 "nbformat_minor": 4
}
