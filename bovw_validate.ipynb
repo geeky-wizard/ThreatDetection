{
 "cells": [
  {
   "cell_type": "code",
   "execution_count": 7,
   "metadata": {},
   "outputs": [],
   "source": [
    "\n",
    "import cv2\n",
    "import numpy as np\n",
    "import os\n",
    "from matplotlib import pylab\n",
    "import pylab as pl\n",
    "from sklearn.metrics import confusion_matrix, accuracy_score \n",
    "# from sklearn.externals import joblib\n",
    "import joblib\n",
    "\n",
    "from scipy.cluster.vq import vq    "
   ]
  },
  {
   "cell_type": "code",
   "execution_count": 18,
   "metadata": {},
   "outputs": [],
   "source": [
    "clf, classes_names, stdSlr, k, voc = joblib.load(\"bovw2.pkl\")"
   ]
  },
  {
   "cell_type": "code",
   "execution_count": 19,
   "metadata": {},
   "outputs": [],
   "source": [
    "# TODO : Descriptor Types\n",
    "brisk = cv2.BRISK_create(30)\n",
    "surf = cv2.xfeatures2d.SURF_create()\n",
    "orb = cv2.ORB_create(nfeatures=30,scoreType=cv2.ORB_FAST_SCORE)\n",
    "sift = cv2.xfeatures2d.SIFT_create()"
   ]
  },
  {
   "cell_type": "code",
   "execution_count": 20,
   "metadata": {
    "tags": [
     "outputPrepend"
    ]
   },
   "outputs": [
    {
     "output_type": "stream",
     "name": "stdout",
     "text": "Window :  (128, 128)\nReading img :  Images/Test/B0046_0012.png\n1  :  0 , 0\n2  :  128 , 0\n3  :  256 , 0\n4  :  384 , 0\n5  :  0 , 128\n6  :  128 , 128\n7  :  256 , 128\n8  :  384 , 128\n9  :  0 , 256\n10  :  128 , 256\n11  :  256 , 256\n12  :  384 , 256\n13  :  0 , 384\n14  :  128 , 384\n15  :  256 , 384\n16  :  384 , 384\ndes_list :\n 2\n"
    },
    {
     "output_type": "error",
     "ename": "ValueError",
     "evalue": "all the input array dimensions for the concatenation axis must match exactly, but along dimension 1, the array at index 0 has size 1 and the array at index 1 has size 64",
     "traceback": [
      "\u001b[0;31m---------------------------------------------------------------------------\u001b[0m",
      "\u001b[0;31mValueError\u001b[0m                                Traceback (most recent call last)",
      "\u001b[0;32m<ipython-input-20-a6c0f4642f70>\u001b[0m in \u001b[0;36m<module>\u001b[0;34m\u001b[0m\n\u001b[1;32m     64\u001b[0m \u001b[0;34m\u001b[0m\u001b[0m\n\u001b[1;32m     65\u001b[0m         \u001b[0;32mfor\u001b[0m \u001b[0mwindow_number\u001b[0m\u001b[0;34m,\u001b[0m \u001b[0mdescriptor\u001b[0m \u001b[0;32min\u001b[0m \u001b[0mdes_list\u001b[0m\u001b[0;34m[\u001b[0m\u001b[0;36m1\u001b[0m\u001b[0;34m:\u001b[0m\u001b[0;34m]\u001b[0m\u001b[0;34m:\u001b[0m\u001b[0;34m\u001b[0m\u001b[0;34m\u001b[0m\u001b[0m\n\u001b[0;32m---> 66\u001b[0;31m             \u001b[0mdescriptors\u001b[0m \u001b[0;34m=\u001b[0m \u001b[0mnp\u001b[0m\u001b[0;34m.\u001b[0m\u001b[0mvstack\u001b[0m\u001b[0;34m(\u001b[0m\u001b[0;34m(\u001b[0m\u001b[0mdescriptors\u001b[0m\u001b[0;34m,\u001b[0m \u001b[0mdescriptor\u001b[0m\u001b[0;34m)\u001b[0m\u001b[0;34m)\u001b[0m\u001b[0;34m\u001b[0m\u001b[0;34m\u001b[0m\u001b[0m\n\u001b[0m\u001b[1;32m     67\u001b[0m \u001b[0;34m\u001b[0m\u001b[0m\n\u001b[1;32m     68\u001b[0m         \u001b[0mtest_features\u001b[0m \u001b[0;34m=\u001b[0m \u001b[0mnp\u001b[0m\u001b[0;34m.\u001b[0m\u001b[0mzeros\u001b[0m\u001b[0;34m(\u001b[0m\u001b[0;34m(\u001b[0m\u001b[0mwindow_number\u001b[0m\u001b[0;34m,\u001b[0m \u001b[0mk\u001b[0m\u001b[0;34m)\u001b[0m\u001b[0;34m,\u001b[0m \u001b[0;34m\"float32\"\u001b[0m\u001b[0;34m)\u001b[0m\u001b[0;34m\u001b[0m\u001b[0;34m\u001b[0m\u001b[0m\n",
      "\u001b[0;32m<__array_function__ internals>\u001b[0m in \u001b[0;36mvstack\u001b[0;34m(*args, **kwargs)\u001b[0m\n",
      "\u001b[0;32m/opt/anaconda3/envs/sop/lib/python3.6/site-packages/numpy/core/shape_base.py\u001b[0m in \u001b[0;36mvstack\u001b[0;34m(tup)\u001b[0m\n\u001b[1;32m    281\u001b[0m     \u001b[0;32mif\u001b[0m \u001b[0;32mnot\u001b[0m \u001b[0misinstance\u001b[0m\u001b[0;34m(\u001b[0m\u001b[0marrs\u001b[0m\u001b[0;34m,\u001b[0m \u001b[0mlist\u001b[0m\u001b[0;34m)\u001b[0m\u001b[0;34m:\u001b[0m\u001b[0;34m\u001b[0m\u001b[0;34m\u001b[0m\u001b[0m\n\u001b[1;32m    282\u001b[0m         \u001b[0marrs\u001b[0m \u001b[0;34m=\u001b[0m \u001b[0;34m[\u001b[0m\u001b[0marrs\u001b[0m\u001b[0;34m]\u001b[0m\u001b[0;34m\u001b[0m\u001b[0;34m\u001b[0m\u001b[0m\n\u001b[0;32m--> 283\u001b[0;31m     \u001b[0;32mreturn\u001b[0m \u001b[0m_nx\u001b[0m\u001b[0;34m.\u001b[0m\u001b[0mconcatenate\u001b[0m\u001b[0;34m(\u001b[0m\u001b[0marrs\u001b[0m\u001b[0;34m,\u001b[0m \u001b[0;36m0\u001b[0m\u001b[0;34m)\u001b[0m\u001b[0;34m\u001b[0m\u001b[0;34m\u001b[0m\u001b[0m\n\u001b[0m\u001b[1;32m    284\u001b[0m \u001b[0;34m\u001b[0m\u001b[0m\n\u001b[1;32m    285\u001b[0m \u001b[0;34m\u001b[0m\u001b[0m\n",
      "\u001b[0;32m<__array_function__ internals>\u001b[0m in \u001b[0;36mconcatenate\u001b[0;34m(*args, **kwargs)\u001b[0m\n",
      "\u001b[0;31mValueError\u001b[0m: all the input array dimensions for the concatenation axis must match exactly, but along dimension 1, the array at index 0 has size 1 and the array at index 1 has size 64"
     ]
    }
   ],
   "source": [
    "test_path = 'Images/Test'\n",
    "\n",
    "# window_size = [(32,32),(64,64),(128,128)]\n",
    "window_size = [(128,128)]\n",
    "\n",
    "images = [os.path.join(test_path,f) for f in os.listdir(test_path)]\n",
    "\n",
    "dims = (512,512)\n",
    "\n",
    "for w in window_size:\n",
    "    print(\"Window : \",w)\n",
    "    for image in images[:1]:\n",
    "        print(\"Reading img : \",image)\n",
    "        img = cv2.imread(image)\n",
    "        gray = cv2.cvtColor(img, cv2.COLOR_BGR2GRAY)\n",
    "        resized_image = cv2.resize(gray, (512, 512))\n",
    "        \n",
    "#         cv2.imshow(\"Image\", gray)\n",
    "#         cv2.waitKey(0)   \n",
    "#         cv2.destroyAllWindows()\n",
    "        \n",
    "        height, width= resized_image.shape\n",
    "#         print(\"Dimensions : \",width,height)\n",
    "        window_number = 1\n",
    "        windows = []\n",
    "\n",
    "        y=0\n",
    "\n",
    "        des_list = []\n",
    "\n",
    "        while y<height:\n",
    "            if(y+w[1]>dims[1]):\n",
    "                break  \n",
    "            x=0\n",
    "            while x<width:\n",
    "                if (x+w[0])>dims[0]:\n",
    "                    break\n",
    "                print(window_number,\" : \",x,\",\",y)\n",
    "                window_number+=1\n",
    "                imgWindow = resized_image[y:y+w[1], x:x+w[0]]\n",
    "\n",
    "                kpts, des = brisk.detectAndCompute(imgWindow, None)\n",
    "                des_list.append((window_number, des))\n",
    "                # kp, des = orb.detectAndCompute(imgWindow, None)\n",
    "                # matches = bf.match(des1,des2)\n",
    "                \n",
    "                # cv2.imshow(\"Window Image\", imgWindow)\n",
    "                # cv2.waitKey(0)   \n",
    "                # cv2.destroyAllWindows()\n",
    "                \n",
    "                x = x + w[0]\n",
    "\n",
    "            y = y+w[1]\n",
    "\n",
    "        # For One Image, All Windows Scanned!\n",
    "\n",
    "        # Stack all the descriptors vertically in a numpy array\n",
    "\n",
    "        # TODO : Apply this Image to Train with BOVW generated histograms!\n",
    "\n",
    "        print(\"des_list :\\n\",len(des_list[0]))\n",
    "\n",
    "        descriptors = des_list[0][1]\n",
    "        \n",
    "        for window_number, descriptor in des_list[1:]:\n",
    "            # descriptors = np.vstack((descriptors, descriptor))\n",
    "            np.concatenate((descriptors,np.concatenate(descriptor)[:,None]),axis=1)\n",
    "\n",
    "        test_features = np.zeros((window_number, k), \"float32\")\n",
    "\n",
    "        for i in range(window_number):\n",
    "            words, distance = vq(des_list[i][1],voc)\n",
    "            for w in words:\n",
    "                test_features[i][w] += 1\n",
    "                \n",
    "\n",
    "        # Perform Tf-Idf vectorization\n",
    "        nbr_occurences = np.sum( (test_features > 0) * 1, axis = 0)\n",
    "        idf = np.array(np.log((1.0*window_number+1) / (1.0*nbr_occurences + 1)), 'float32')\n",
    "\n",
    "        test_features = stdSlr.transform(test_features)\n",
    "\n",
    "        predictions =  [classes_names[i] for i in clf.predict(test_features)]\n",
    "\n",
    "        print (\"prediction =\"  + str(predictions))"
   ]
  },
  {
   "cell_type": "code",
   "execution_count": null,
   "metadata": {},
   "outputs": [],
   "source": []
  }
 ],
 "metadata": {
  "language_info": {
   "codemirror_mode": {
    "name": "ipython",
    "version": 3
   },
   "file_extension": ".py",
   "mimetype": "text/x-python",
   "name": "python",
   "nbconvert_exporter": "python",
   "pygments_lexer": "ipython3",
   "version": "3.6.10-final"
  },
  "orig_nbformat": 2,
  "kernelspec": {
   "name": "python361064bitsopcondab02fd9f5799b41bd8ee69074ba760c88",
   "display_name": "Python 3.6.10 64-bit ('sop': conda)"
  }
 },
 "nbformat": 4,
 "nbformat_minor": 2
}