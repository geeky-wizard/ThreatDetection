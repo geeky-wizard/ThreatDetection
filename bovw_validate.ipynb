{
 "cells": [
  {
   "cell_type": "code",
   "execution_count": 13,
   "metadata": {},
   "outputs": [],
   "source": [
    "\n",
    "import cv2\n",
    "import numpy as np\n",
    "import os\n",
    "from matplotlib import pylab\n",
    "import pylab as pl\n",
    "from sklearn.metrics import confusion_matrix, accuracy_score \n",
    "# from sklearn.externals import joblib\n",
    "import joblib\n",
    "\n",
    "from scipy.cluster.vq import vq    "
   ]
  },
  {
   "cell_type": "code",
   "execution_count": 14,
   "metadata": {},
   "outputs": [
    {
     "output_type": "execute_result",
     "data": {
      "text/plain": "'/Users/mohitbohra/Documents/Rohit/SOP'"
     },
     "metadata": {},
     "execution_count": 14
    }
   ],
   "source": [
    "import os\n",
    "os.getcwd()"
   ]
  },
  {
   "cell_type": "code",
   "execution_count": 15,
   "metadata": {},
   "outputs": [],
   "source": [
    "clf, classes_names, stdSlr, k, voc = joblib.load(\"bovw21.pkl\")"
   ]
  },
  {
   "cell_type": "code",
   "execution_count": 17,
   "metadata": {},
   "outputs": [],
   "source": [
    "# TODO : Descriptor Types\n",
    "brisk = cv2.BRISK_create(30)\n",
    "surf = cv2.xfeatures2d.SURF_create()\n",
    "orb = cv2.ORB_create(nfeatures=30,scoreType=cv2.ORB_FAST_SCORE)\n",
    "sift = cv2.xfeatures2d.SIFT_create()"
   ]
  },
  {
   "cell_type": "code",
   "execution_count": 18,
   "metadata": {
    "tags": [
     "outputPrepend"
    ]
   },
   "outputs": [
    {
     "output_type": "stream",
     "name": "stdout",
     "text": "Window :  (128, 128)\nReading img :  Images/Test/Img9.png\nImage :  Images/Test/Img9.png\nprediction =['Side', 'Side', 'Side', 'Side', 'Front', 'Front', 'Side', 'Side', 'Front', 'Front', 'Side', 'Side', 'Front', 'Front', 'Side', 'Side', 'Side']\nReading img :  Images/Test/Img8.png\n"
    },
    {
     "output_type": "error",
     "ename": "IndexError",
     "evalue": "invalid index to scalar variable.",
     "traceback": [
      "\u001b[0;31m---------------------------------------------------------------------------\u001b[0m",
      "\u001b[0;31mIndexError\u001b[0m                                Traceback (most recent call last)",
      "\u001b[0;32m<ipython-input-18-e4291fa4a9eb>\u001b[0m in \u001b[0;36m<module>\u001b[0;34m\u001b[0m\n\u001b[1;32m     32\u001b[0m \u001b[0;34m\u001b[0m\u001b[0m\n\u001b[1;32m     33\u001b[0m         \u001b[0;32mwhile\u001b[0m \u001b[0my\u001b[0m\u001b[0;34m<\u001b[0m\u001b[0mheight\u001b[0m\u001b[0;34m:\u001b[0m\u001b[0;34m\u001b[0m\u001b[0;34m\u001b[0m\u001b[0m\n\u001b[0;32m---> 34\u001b[0;31m             \u001b[0;32mif\u001b[0m\u001b[0;34m(\u001b[0m\u001b[0my\u001b[0m\u001b[0;34m+\u001b[0m\u001b[0mw\u001b[0m\u001b[0;34m[\u001b[0m\u001b[0;36m1\u001b[0m\u001b[0;34m]\u001b[0m\u001b[0;34m>\u001b[0m\u001b[0mdims\u001b[0m\u001b[0;34m[\u001b[0m\u001b[0;36m1\u001b[0m\u001b[0;34m]\u001b[0m\u001b[0;34m)\u001b[0m\u001b[0;34m:\u001b[0m\u001b[0;34m\u001b[0m\u001b[0;34m\u001b[0m\u001b[0m\n\u001b[0m\u001b[1;32m     35\u001b[0m                 \u001b[0;32mbreak\u001b[0m\u001b[0;34m\u001b[0m\u001b[0;34m\u001b[0m\u001b[0m\n\u001b[1;32m     36\u001b[0m             \u001b[0mx\u001b[0m\u001b[0;34m=\u001b[0m\u001b[0;36m0\u001b[0m\u001b[0;34m\u001b[0m\u001b[0;34m\u001b[0m\u001b[0m\n",
      "\u001b[0;31mIndexError\u001b[0m: invalid index to scalar variable."
     ]
    }
   ],
   "source": [
    "test_path = 'Images/Test'\n",
    "\n",
    "# window_size = [(32,32),(64,64),(128,128)]\n",
    "window_size = [(128,128)]\n",
    "\n",
    "images = [os.path.join(test_path,f) for f in os.listdir(test_path)]\n",
    "\n",
    "dims = (512,512)\n",
    "\n",
    "num_kpts=0\n",
    "\n",
    "for w in window_size:\n",
    "    print(\"Window : \",w)\n",
    "    for image in images:\n",
    "        print(\"Reading img : \",image)\n",
    "        img = cv2.imread(image)\n",
    "        gray = cv2.cvtColor(img, cv2.COLOR_BGR2GRAY)\n",
    "        resized_image = cv2.resize(gray, (512, 512))\n",
    "        \n",
    "#         cv2.imshow(\"Image\", gray)\n",
    "#         cv2.waitKey(0)   \n",
    "#         cv2.destroyAllWindows()\n",
    "        \n",
    "        height, width= resized_image.shape\n",
    "#         print(\"Dimensions : \",width,height)\n",
    "        window_number = 1\n",
    "        windows = []\n",
    "\n",
    "        y=0\n",
    "\n",
    "        des_list = []\n",
    "\n",
    "        while y<height:\n",
    "            if(y+w[1]>dims[1]):\n",
    "                break  \n",
    "            x=0\n",
    "            while x<width:\n",
    "                if (x+w[0])>dims[0]:\n",
    "                    break\n",
    "                window_number+=1\n",
    "                imgWindow = resized_image[y:y+w[1], x:x+w[0]]\n",
    "\n",
    "                kpts, des = brisk.detectAndCompute(imgWindow, None)\n",
    "\n",
    "                if len(kpts)==0:\n",
    "                    x = x + w[0]\n",
    "                    continue;\n",
    "\n",
    "                des_list.append((window_number, des))\n",
    "                num_kpts += 1\n",
    "                # print(window_number,\" : \",x,\",\",y)\n",
    "                # print(len(kpts),\",\",imgWindow.shape)\n",
    "                \n",
    "                # cv2.imshow(\"Window Image\", imgWindow)\n",
    "                # cv2.waitKey(0)   \n",
    "                # cv2.destroyAllWindows()\n",
    "                \n",
    "                x = x + w[0]\n",
    "\n",
    "            y = y+w[1]\n",
    "\n",
    "        # For One Image, All Windows Scanned!\n",
    "\n",
    "        # Stack all the descriptors vertically in a numpy array\n",
    "\n",
    "        # TODO : Apply this Image to Train with BOVW generated histograms!\n",
    "\n",
    "        # print(\"des_list : \",len(des_list[0]))\n",
    "\n",
    "        descriptors = des_list[0][1]\n",
    "        # print(descriptors)\n",
    "        \n",
    "        for window_number, descriptor in des_list[0:]:\n",
    "            # print(\"check : \",descriptors.shape)\n",
    "            descriptors = np.vstack((descriptors, descriptor))\n",
    "\n",
    "        test_features = np.zeros((window_number, k), \"float32\")\n",
    "\n",
    "        for i in range(num_kpts):\n",
    "            words, distance = vq(des_list[i][1],voc)\n",
    "            for w in words:\n",
    "                test_features[i][w] += 1\n",
    "                \n",
    "\n",
    "        # Perform Tf-Idf vectorization\n",
    "        nbr_occurences = np.sum( (test_features > 0) * 1, axis = 0)\n",
    "        idf = np.array(np.log((1.0*num_kpts+1) / (1.0*nbr_occurences + 1)), 'float32')\n",
    "\n",
    "        test_features = stdSlr.transform(test_features)\n",
    "\n",
    "        predictions =  [classes_names[i] for i in clf.predict(test_features)]\n",
    "\n",
    "        print(\"Image : \",image)\n",
    "        print (\"prediction =\"  + str(predictions))"
   ]
  },
  {
   "cell_type": "code",
   "execution_count": null,
   "metadata": {},
   "outputs": [],
   "source": []
  }
 ],
 "metadata": {
  "language_info": {
   "codemirror_mode": {
    "name": "ipython",
    "version": 3
   },
   "file_extension": ".py",
   "mimetype": "text/x-python",
   "name": "python",
   "nbconvert_exporter": "python",
   "pygments_lexer": "ipython3",
   "version": "3.6.10-final"
  },
  "orig_nbformat": 2,
  "kernelspec": {
   "name": "python361064bitsopcondab02fd9f5799b41bd8ee69074ba760c88",
   "display_name": "Python 3.6.10 64-bit ('sop': conda)"
  }
 },
 "nbformat": 4,
 "nbformat_minor": 2
}